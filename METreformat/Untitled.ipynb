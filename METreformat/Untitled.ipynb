{
 "cells": [
  {
   "cell_type": "code",
   "execution_count": 12,
   "id": "e5886c0c",
   "metadata": {},
   "outputs": [
    {
     "name": "stdout",
     "output_type": "stream",
     "text": [
      "/Volumes/d1/minnawin/feature_121_met_reformatter/METdataio/METreformat\n",
      " path: \n",
      "\n",
      "['/Volumes/d1/minnawin/feature_121_met_reformatter/METdataio/METdbLoad/', '/Volumes/d1/minnawin/feature_121_met_reformatter/METdataio/', '/Volumes/d1/minnawin/feature_121_met_reformatter/METdataio/', '/Volumes/d1/minnawin/feature_121_met_reformatter/METdataio/METdbLoad/', '/Volumes/d1/minnawin/feature_121_met_reformatter/METdataio/METdbLoad/', '/Volumes/d1/minnawin/feature_121_met_reformatter/METdataio/METreformat', '/Volumes/d1/minnawin/feature_121_met_reformatter/METdataio/METdbLoad', '/Volumes/d1/minnawin/feature_121_met_reformatter/METdataio/METdbLoad/ush', '/Volumes/d1/minnawin/feature_121_met_reformatter/METdataio/METreformat', '/Users/minnawin/miniconda/envs/mac_metplotpy_py38/lib/python38.zip', '/Users/minnawin/miniconda/envs/mac_metplotpy_py38/lib/python3.8', '/Users/minnawin/miniconda/envs/mac_metplotpy_py38/lib/python3.8/lib-dynload', '', '/Users/minnawin/.local/lib/python3.8/site-packages', '/Users/minnawin/miniconda/envs/mac_metplotpy_py38/lib/python3.8/site-packages', '/Volumes/d1/minnawin/feature_121_met_reformatter/METdataio/METdbLoad/']\n"
     ]
    }
   ],
   "source": [
    "import os\n",
    "import sys\n",
    "import logging\n",
    "import time\n",
    "from datetime import timedelta\n",
    "import numpy as np\n",
    "import pandas as pd\n",
    "\n",
    "print(os.getcwd())\n",
    "print(\" path: \\n\")\n",
    "sys.path.insert(1,'/Volumes/d1/minnawin/feature_121_met_reformatter/METdataio/')\n",
    "print(sys.path)\n",
    "\n",
    "# from METdbLoad.ush import *\n",
    "# from METdbLoad.ush.read_load_xml import XmlLoadFile\n",
    "# from METdbLoad.ush.read_data_files import ReadDataFiles\n",
    "# from METdbLoad.ush.write_stat_ascii import WriteStatAscii"
   ]
  },
  {
   "cell_type": "code",
   "execution_count": null,
   "id": "e90f47fa",
   "metadata": {},
   "outputs": [],
   "source": []
  },
  {
   "cell_type": "code",
   "execution_count": null,
   "id": "f2f0d529",
   "metadata": {},
   "outputs": [],
   "source": []
  }
 ],
 "metadata": {
  "kernelspec": {
   "display_name": "Python 3 (ipykernel)",
   "language": "python",
   "name": "python3"
  },
  "language_info": {
   "codemirror_mode": {
    "name": "ipython",
    "version": 3
   },
   "file_extension": ".py",
   "mimetype": "text/x-python",
   "name": "python",
   "nbconvert_exporter": "python",
   "pygments_lexer": "ipython3",
   "version": "3.8.6"
  }
 },
 "nbformat": 4,
 "nbformat_minor": 5
}
